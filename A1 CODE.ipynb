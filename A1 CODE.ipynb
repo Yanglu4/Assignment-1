{
 "cells": [
  {
   "cell_type": "code",
   "execution_count": 1,
   "metadata": {},
   "outputs": [
    {
     "name": "stdout",
     "output_type": "stream",
     "text": [
      "fractions(100-day simulation): {'Movie': 0.18, 'COMP551': 0.38, 'Playing': 0.09, 'Studying': 0.35}\n"
     ]
    }
   ],
   "source": [
    "#Q1.2\n",
    "#simulate 100 days\n",
    "import numpy as np\n",
    "simulation=np.random.uniform(low=0,high=1,size=1)\n",
    "for iteration in range(1,100):\n",
    "    x=np.random.uniform(low=0,high=1,size=1)\n",
    "    simulation=np.vstack((simulation,x))\n",
    "#(0,0.2):1.Movie (0.2,0.6)2.COMP551 (0.6,0.7)3.Playing (0.7,1)4.Studying\n",
    "for row in range(0,100):\n",
    "    if simulation[row][0]<0.2:\n",
    "        simulation[row][0]=1#Movie\n",
    "    elif simulation[row][0]<0.6:\n",
    "        simulation[row][0]=2#COMP551\n",
    "    elif simulation[row][0]<0.7:\n",
    "        simulation[row][0]=3#PLAYING\n",
    "    else:\n",
    "        simulation[row][0]=4#STUDYING\n",
    "        \n",
    "#count activities\n",
    "unique, counts = np.unique(simulation, return_counts=True)\n",
    "unique=[\"Movie\",\"COMP551\",\"Playing\",\"Studying\"]\n",
    "result1=dict(zip(unique, counts/100))\n",
    "print(\"fractions(100-day simulation):\",result1)\n"
   ]
  },
  {
   "cell_type": "code",
   "execution_count": 2,
   "metadata": {},
   "outputs": [
    {
     "name": "stdout",
     "output_type": "stream",
     "text": [
      "fractions(1000-day simulation): {'Movie': 0.201, 'COMP551': 0.388, 'Playing': 0.11, 'Studying': 0.301}\n"
     ]
    }
   ],
   "source": [
    "#simulate 1000 days\n",
    "simulation2=np.random.uniform(low=0,high=1,size=1)\n",
    "for iteration2 in range(1,1000):\n",
    "    x=np.random.uniform(low=0,high=1,size=1)\n",
    "    simulation2=np.vstack((simulation2,x))\n",
    "#(0,0.2):1.Movie (0.2,0.6)2.COMP551 (0.6,0.7)3.Playing (0.7,1)4.Studying\n",
    "for row in range(0,1000):\n",
    "    if simulation2[row][0]<0.2:\n",
    "        simulation2[row][0]=1#Movie\n",
    "    elif simulation2[row][0]<0.6:\n",
    "        simulation2[row][0]=2#COMP551\n",
    "    elif simulation2[row][0]<0.7:\n",
    "        simulation2[row][0]=3#PLAYING\n",
    "    else:\n",
    "        simulation2[row][0]=4#STUDYING\n",
    "        \n",
    "#count activities\n",
    "unique, counts2 = np.unique(simulation2, return_counts=True)\n",
    "unique=[\"Movie\",\"COMP551\",\"Playing\",\"Studying\"]\n",
    "result2=dict(zip(unique, counts2/1000))\n",
    "print(\"fractions(1000-day simulation):\",result2)"
   ]
  },
  {
   "cell_type": "code",
   "execution_count": 3,
   "metadata": {},
   "outputs": [
    {
     "name": "stdout",
     "output_type": "stream",
     "text": [
      "Train MSE: 6.474690849607278\n",
      "Validation MSE: 1420.5567393797228\n"
     ]
    },
    {
     "data": {
      "text/plain": [
       "<Figure size 640x480 with 1 Axes>"
      ]
     },
     "metadata": {},
     "output_type": "display_data"
    }
   ],
   "source": [
    "#Q2.1\n",
    "import csv\n",
    "import numpy as np\n",
    "#opening train set\n",
    "with open('Dataset_1_train.csv','r') as csv_file:\n",
    "    readCSV= csv.reader(csv_file, delimiter=',')\n",
    "    xs=list()\n",
    "    ys=list()\n",
    "    for row in readCSV:\n",
    "        xs.append(float(row[0]))\n",
    "        ys.append(float(row[1]))\n",
    "Xs=np.array(xs)\n",
    "Y=np.array(ys)\n",
    "X=Xs**0\n",
    "for column in range(1,21):\n",
    "    X=np.column_stack((X,Xs**column))\n",
    "    \n",
    "#compute W\n",
    "result=np.matmul(X.T,X)\n",
    "result=np.linalg.inv(result)\n",
    "result=np.matmul(result,X.T)\n",
    "result=np.matmul(result,Y)\n",
    "w=result\n",
    "#a MSE\n",
    "def MSE(w,X,Y):\n",
    "    return np.matmul((Y-np.matmul(X,w)).T,Y-np.matmul(X,w))/len(X)\n",
    "\n",
    "TrainMSE=MSE(w,X,Y)\n",
    "\n",
    "#load validate set\n",
    "with open('Dataset_1_valid.csv','r') as csv_file:\n",
    "    readCSV= csv.reader(csv_file, delimiter=',')\n",
    "    xv=list()\n",
    "    yv=list()\n",
    "    for row in readCSV:\n",
    "        type(row[0])\n",
    "        xv.append(float(row[0]))\n",
    "        yv.append(float(row[1]))\n",
    "xValid=np.array(xv)\n",
    "yValid=np.array(yv)\n",
    "XV=xValid**0\n",
    "for column in range(1,21):\n",
    "    XV=np.column_stack((XV,xValid**column))\n",
    "xValid=XV\n",
    "ValidMSE=MSE(w,XV,yValid)\n",
    "print(\"Train MSE:\",TrainMSE)\n",
    "print(\"Validation MSE:\",ValidMSE)\n",
    "w=np.flip(w,0)\n",
    "#(b)plotting\n",
    "import matplotlib.pyplot as plt\n",
    "plt.plot(xs,ys,'bo',label='observation')\n",
    "plt.plot(xv,yv,'go',label='validation')\n",
    "xp=np.linspace(-1,1,50)\n",
    "plt.plot(xp,np.polyval(w,xp),'r-',label='fitting line')\n",
    "plt.ylim(-50,40)\n",
    "plt.legend(loc='best')\n",
    "plt.show()\n"
   ]
  },
  {
   "cell_type": "code",
   "execution_count": 4,
   "metadata": {},
   "outputs": [
    {
     "data": {
      "text/plain": [
       "Text(0,0.5,'MSE')"
      ]
     },
     "execution_count": 4,
     "metadata": {},
     "output_type": "execute_result"
    },
    {
     "data": {
      "image/png": "[encoded data removed]",
      "text/plain": [
       "<Figure size 432x288 with 1 Axes>"
      ]
     },
     "metadata": {},
     "output_type": "display_data"
    }
   ],
   "source": [
    "#2.2 (a)\n",
    "I=np.identity(21)\n",
    "def L2MSE(LAMB,Xset,Yset):\n",
    "    temp=np.matmul(Xset.T,Xset)+LAMB*I\n",
    "    temp=np.linalg.inv(temp)\n",
    "    temp=np.matmul(temp,Xset.T)\n",
    "    temp=np.matmul(temp,Yset)\n",
    "    return temp\n",
    "t1=np.arange(0.001, 0.6, 0.002)\n",
    "v1=list()\n",
    "v2=list()\n",
    "for i in t1:\n",
    "    v1.append(MSE(L2MSE(i,X,Y),X,Y))\n",
    "    v2.append(MSE(L2MSE(i,X,Y),xValid,yValid))\n",
    "\n",
    "import matplotlib.pyplot as plt\n",
    "plt.plot(t1,v1,'r-',label=\"testing set\")\n",
    "plt.plot(t1,v2,'b-',label=\"validating set\")\n",
    "plt.legend(loc='best')\n",
    "plt.xlabel('lambda')\n",
    "plt.ylabel('MSE')"
   ]
  },
  {
   "cell_type": "code",
   "execution_count": 5,
   "metadata": {},
   "outputs": [
    {
     "name": "stdout",
     "output_type": "stream",
     "text": [
      "best lambda: 0.010160684585571289\n",
      "corresponding MSE 9.13508362417155\n"
     ]
    },
    {
     "data": {
      "image/png": "[encoded data removed]",
      "text/plain": [
       "<Figure size 432x288 with 1 Axes>"
      ]
     },
     "metadata": {},
     "output_type": "display_data"
    },
    {
     "data": {
      "text/plain": [
       "<matplotlib.legend.Legend at 0x1857664deb8>"
      ]
     },
     "execution_count": 5,
     "metadata": {},
     "output_type": "execute_result"
    },
    {
     "data": {
      "image/png": "[encoded data removed]",
      "text/plain": [
       "<Figure size 432x288 with 1 Axes>"
      ]
     },
     "metadata": {},
     "output_type": "display_data"
    }
   ],
   "source": [
    "\n",
    "def Objective_Function(lamb):\n",
    "    return MSE(L2MSE(lamb,X,Y),xValid,yValid)\n",
    "\n",
    "from scipy.optimize import minimize\n",
    "guess=0.5\n",
    "sol=minimize(Objective_Function,guess,method='SLSQP')\n",
    "bestLamb=sol['jac'][0]\n",
    "smallestVMSE=sol['fun']\n",
    "\n",
    "print('best lambda:',bestLamb)\n",
    "print('corresponding MSE',smallestVMSE)\n",
    "#load test set\n",
    "with open('Dataset_1_test.csv','r') as csv_file:\n",
    "    readCSV= csv.reader(csv_file, delimiter=',')\n",
    "    xt=list()\n",
    "    yt=list()\n",
    "    for row in readCSV:\n",
    "        type(row[0])\n",
    "        xt.append(float(row[0]))\n",
    "        yt.append(float(row[1]))\n",
    "xTest=np.array(xt)\n",
    "yTest=np.array(yt)\n",
    "XT=xTest**0\n",
    "for column in range(1,21):\n",
    "    XT=np.column_stack((XT,xTest**column))\n",
    "xTest=XT\n",
    "optimalW=np.flip(L2MSE(bestLamb,X,Y),0)\n",
    "TestMSE=MSE(optimalW,xTest,yTest)\n",
    "\n",
    "#ploting test data\n",
    "plt.plot(xt,yt,'go',label='test',markersize=5)\n",
    "xp=np.linspace(-1,1,50)\n",
    "plt.plot(xp,np.polyval(optimalW,xp),'r-',label='best fitting line')\n",
    "plt.legend(loc='best')\n",
    "plt.show()\n",
    "#all together\n",
    "plt.plot(xs,ys,'ro',label='train',markersize=5)\n",
    "plt.plot(xv,yv,'bo',label='valid',markersize=5)\n",
    "plt.plot(xt,yt,'go',label='test',markersize=5)\n",
    "xp=np.linspace(-1,1,50)\n",
    "plt.plot(xp,np.polyval(optimalW,xp),'r-',label='best fitting line')\n",
    "plt.legend(loc='best')\n"
   ]
  },
  {
   "cell_type": "code",
   "execution_count": 6,
   "metadata": {},
   "outputs": [
    {
     "name": "stdout",
     "output_type": "stream",
     "text": [
      "{'TrainMSE': array([ 0.        , 28.2015828 , 28.17375488, ...,  0.09564702,\n",
      "        0.09564701,  0.095647  ]), 'ValidMSE': array([ 0.        , 28.05210269, 28.02452983, ...,  0.07516782,\n",
      "        0.07516778,  0.07516774]), 'TMSE': 0.09564700271313806, 'VMSE': 0.07516773704965735, 'Model': [3.600164320088493, 4.292640821632016], 'iteration': 100000}\n"
     ]
    }
   ],
   "source": [
    "#Q3\n",
    "#3.1.a\n",
    "import csv\n",
    "import numpy as np\n",
    "with open('Dataset_2_train.csv','r') as csv_file:\n",
    "    readCSV= csv.reader(csv_file, delimiter=',')\n",
    "    xs=list()\n",
    "    ys=list()\n",
    "    for row in readCSV:\n",
    "        xs.append(float(row[0]))\n",
    "        ys.append(float(row[1]))\n",
    "X=np.array(xs)\n",
    "Y=np.array(ys)\n",
    "trainingSet=np.column_stack((X,Y))\n",
    "with open('Dataset_2_valid.csv','r') as csv_file:\n",
    "    readCSV= csv.reader(csv_file, delimiter=',')\n",
    "    xvs=list()\n",
    "    yvs=list()\n",
    "    for row in readCSV:\n",
    "        xvs.append(float(row[0]))\n",
    "        yvs.append(float(row[1]))\n",
    "XV=np.array(xvs)\n",
    "YV=np.array(yvs)\n",
    "validationSet=np.column_stack((XV,YV))\n",
    "with open('Dataset_2_test.csv','r') as csv_file:\n",
    "    readCSV= csv.reader(csv_file, delimiter=',')\n",
    "    xts=list()\n",
    "    yts=list()\n",
    "    for row in readCSV:\n",
    "        xts.append(float(row[0]))\n",
    "        yts.append(float(row[1]))\n",
    "XT=np.array(xts)\n",
    "YT=np.array(yts)\n",
    "testSet=np.column_stack((XT,YT))\n",
    "\n",
    "def Error(w,datapoint):\n",
    "    estimate=w[0]+datapoint[0]*w[1]\n",
    "    error=estimate-datapoint[1]\n",
    "    return error\n",
    "\n",
    "\n",
    "\n",
    "def SGD(dataset,dataset2,model,stepsize,iteration):\n",
    "    change=10\n",
    "    i=0\n",
    "    validMSECollection=np.array([0])\n",
    "    trainMSECollection=np.array([0])\n",
    "    radiusOfConvergence=1e-5\n",
    "    while i<iteration:\n",
    "        trainMSE=0\n",
    "        validMSE=0\n",
    "        i=i+1\n",
    "        np.random.shuffle(dataset)\n",
    "        for datapoint in dataset:\n",
    "            error=Error(model,datapoint)\n",
    "            #update simultaneously\n",
    "            model[0]=model[0]-error*stepsize\n",
    "            model[1]=model[1]-error*stepsize*datapoint[0]\n",
    "            trainMSE=trainMSE+error**2\n",
    "        trainMSE=trainMSE/len(dataset)\n",
    "        trainMSECollection=np.append(trainMSECollection,trainMSE)\n",
    "        for datapoint in dataset2:\n",
    "            error=Error(model,datapoint)\n",
    "            validMSE=validMSE+error**2\n",
    "        validMSE=validMSE/len(dataset2)\n",
    "        validMSECollection=np.append(validMSECollection,validMSE)\n",
    "    result= {}\n",
    "    result['TrainMSE']= trainMSECollection\n",
    "    result['ValidMSE']= validMSECollection\n",
    "    result['TMSE']=trainMSE\n",
    "    result['VMSE']=validMSE\n",
    "    result['Model']=model\n",
    "    result['iteration']=i\n",
    "    return result\n",
    "coeff=[1,1]\n",
    "result=SGD(trainingSet,validationSet,coeff,1e-6,100000)\n",
    "print(result)"
   ]
  },
  {
   "cell_type": "code",
   "execution_count": 7,
   "metadata": {},
   "outputs": [
    {
     "data": {
      "image/png": "[encoded data removed]",
      "text/plain": [
       "<Figure size 432x288 with 1 Axes>"
      ]
     },
     "metadata": {},
     "output_type": "display_data"
    }
   ],
   "source": [
    "#3.1.b ploting\n",
    "iteration=result['iteration']\n",
    "VMSE=result['ValidMSE']\n",
    "VMSE=np.delete(VMSE,0)\n",
    "np.savetxt(\"Assignment1_260631276_3_1_a.txt\", VMSE, delimiter=\",\")\n",
    "VMSE[iteration-1]\n",
    "TMSE=result['TrainMSE']\n",
    "TMSE=np.delete(TMSE,0)\n",
    "TMSE[iteration-1]\n",
    "import math \n",
    "import matplotlib.pyplot as plt\n",
    "xaxis=np.linspace(1,math.log(iteration),iteration)\n",
    "plt.plot(xaxis,VMSE.T,'r-', label='ValidMSE',markersize=1)\n",
    "plt.plot(xaxis,TMSE.T,'b-', label='TrainMSE',markersize=1)\n",
    "plt.axis([0, math.log(iteration), 0, 30])\n",
    "plt.xlabel=(\"log iteration\")\n",
    "plt.ylabel=(\"MSE\")\n",
    "plt.legend()\n",
    "plt.show()"
   ]
  },
  {
   "cell_type": "code",
   "execution_count": 8,
   "metadata": {},
   "outputs": [],
   "source": [
    "#3.2.try different step size\n",
    "iteration=1e4\n",
    "stepsize1=1e-1\n",
    "stepsize2=1e-2\n",
    "stepsize3=1e-3\n",
    "stepsize4=1e-4\n",
    "stepsize5=1e-5\n",
    "stepsize6=1e-6\n",
    "stepsize7=1e-7"
   ]
  },
  {
   "cell_type": "code",
   "execution_count": 9,
   "metadata": {},
   "outputs": [
    {
     "name": "stdout",
     "output_type": "stream",
     "text": [
      "{'TrainMSE': array([0.        , 0.70133095, 0.10682351, ..., 0.10598385, 0.10363495,\n",
      "       0.10410572]), 'ValidMSE': array([0.        , 0.07309694, 0.07407532, ..., 0.07459635, 0.07431605,\n",
      "       0.07589222]), 'TMSE': 0.1041057215758903, 'VMSE': 0.07589222278437198, 'Model': [3.6050348612315584, 4.371001879238264], 'iteration': 10000}\n"
     ]
    }
   ],
   "source": [
    "coeff=[0,0]\n",
    "result1=SGD(trainingSet,validationSet,coeff,stepsize1,iteration)\n",
    "\n",
    "print(result1)\n",
    "\n"
   ]
  },
  {
   "cell_type": "code",
   "execution_count": 10,
   "metadata": {},
   "outputs": [
    {
     "name": "stdout",
     "output_type": "stream",
     "text": [
      "{'TrainMSE': array([0.        , 5.33449468, 0.14169725, ..., 0.09695224, 0.09658819,\n",
      "       0.09657572]), 'ValidMSE': array([0.        , 0.16769791, 0.1261877 , ..., 0.07464016, 0.07613642,\n",
      "       0.07379382]), 'TMSE': 0.09657572332284138, 'VMSE': 0.07379381956253882, 'Model': [3.5927193914150517, 4.335725951362039], 'iteration': 10000}\n"
     ]
    }
   ],
   "source": [
    "coeff=[0,0]\n",
    "result2=SGD(trainingSet,validationSet,coeff,stepsize2,iteration)\n",
    "print(result2)"
   ]
  },
  {
   "cell_type": "code",
   "execution_count": 11,
   "metadata": {},
   "outputs": [
    {
     "name": "stdout",
     "output_type": "stream",
     "text": [
      "{'TrainMSE': array([ 0.        , 32.29030716, 12.07586823, ...,  0.09566635,\n",
      "        0.095666  ,  0.09566778]), 'ValidMSE': array([ 0.        , 18.84514327,  7.14417792, ...,  0.07403837,\n",
      "        0.07405693,  0.07406884]), 'TMSE': 0.09566777970027915, 'VMSE': 0.07406883753939271, 'Model': [3.576492763288868, 4.320316217041708], 'iteration': 10000}\n"
     ]
    }
   ],
   "source": [
    "coeff=[0,0]\n",
    "result3=SGD(trainingSet,validationSet,coeff,stepsize3,iteration)\n",
    "print(result3)\n",
    "\n"
   ]
  },
  {
   "cell_type": "code",
   "execution_count": 12,
   "metadata": {},
   "outputs": [
    {
     "name": "stdout",
     "output_type": "stream",
     "text": [
      "{'TrainMSE': array([ 0.        , 48.3194061 , 43.76852709, ...,  0.09552433,\n",
      "        0.09552433,  0.09552419]), 'ValidMSE': array([ 0.        , 45.66688394, 41.37972778, ...,  0.07407085,\n",
      "        0.07407146,  0.07407054]), 'TMSE': 0.09552419112106682, 'VMSE': 0.07407053890822464, 'Model': [3.5765169293412966, 4.320272992825811], 'iteration': 10000}\n"
     ]
    }
   ],
   "source": [
    "coeff=[0,0]\n",
    "result4=SGD(trainingSet,validationSet,coeff,stepsize4,iteration)\n",
    "print(result4)"
   ]
  },
  {
   "cell_type": "code",
   "execution_count": 13,
   "metadata": {},
   "outputs": [
    {
     "name": "stdout",
     "output_type": "stream",
     "text": [
      "{'TrainMSE': array([ 0.        , 50.48962332, 49.99252603, ...,  0.09568702,\n",
      "        0.09568691,  0.0956868 ]), 'ValidMSE': array([ 0.        , 49.90648439, 49.4165781 , ...,  0.07533545,\n",
      "        0.07533498,  0.07533451]), 'TMSE': 0.09568679601991577, 'VMSE': 0.0753345104781111, 'Model': [3.603223983503278, 4.289065099144785], 'iteration': 10000}\n"
     ]
    }
   ],
   "source": [
    "coeff=[0,0]\n",
    "result5=SGD(trainingSet,validationSet,coeff,stepsize5,iteration)\n",
    "print(result5)\n"
   ]
  },
  {
   "cell_type": "code",
   "execution_count": 14,
   "metadata": {},
   "outputs": [
    {
     "name": "stdout",
     "output_type": "stream",
     "text": [
      "{'TrainMSE': array([ 0.        , 50.7137788 , 50.66362459, ...,  0.14926291,\n",
      "        0.14925723,  0.14925156]), 'ValidMSE': array([ 0.        , 50.35157849, 50.30192793, ...,  0.15872624,\n",
      "        0.15871846,  0.15871067]), 'TMSE': 0.14925155777808716, 'VMSE': 0.1587106745675827, 'Model': [4.001622578764162, 3.7641195420798845], 'iteration': 10000}\n"
     ]
    }
   ],
   "source": [
    "coeff=[0,0]\n",
    "result6=SGD(trainingSet,validationSet,coeff,stepsize6,iteration)\n",
    "print(result6)\n"
   ]
  },
  {
   "cell_type": "code",
   "execution_count": 15,
   "metadata": {},
   "outputs": [
    {
     "name": "stdout",
     "output_type": "stream",
     "text": [
      "{'TrainMSE': array([ 0.        , 50.73626737, 50.73124748, ..., 18.91465791,\n",
      "       18.9127975 , 18.91093727]), 'ValidMSE': array([ 0.        , 50.39630614, 50.39133444, ..., 18.86063621,\n",
      "       18.85879063, 18.85694523]), 'TMSE': 18.91093726736791, 'VMSE': 18.856945226547595, 'Model': [1.6241033009323202, 1.4285956270001468], 'iteration': 10000}\n"
     ]
    }
   ],
   "source": [
    "coeff=[0,0]\n",
    "result7=SGD(trainingSet,validationSet,coeff,stepsize7,iteration)\n",
    "print(result7)\n"
   ]
  },
  {
   "cell_type": "code",
   "execution_count": 16,
   "metadata": {},
   "outputs": [
    {
     "name": "stdout",
     "output_type": "stream",
     "text": [
      "{'1': 0.07589222278437198, '2': 0.07379381956253882, '3': 0.07406883753939271, '4': 0.07407053890822464, '5': 0.0753345104781111, '6': 0.1587106745675827, '7': 18.856945226547595}\n"
     ]
    }
   ],
   "source": [
    "ValidMSE={'1':result1['VMSE'],'2':result2['VMSE'],'3':result3['VMSE'],'4':result4['VMSE'],'5':result5['VMSE'],'6':result6['VMSE'],'7':result7['VMSE']}\n",
    "print(ValidMSE)\n"
   ]
  },
  {
   "cell_type": "code",
   "execution_count": 17,
   "metadata": {},
   "outputs": [
    {
     "name": "stdout",
     "output_type": "stream",
     "text": [
      "{'2': 0.07413151126158796, '3': 0.07404995563154312, '4': 0.0753351999048462, '5': 0.1587085502714316}\n"
     ]
    }
   ],
   "source": [
    "iteration=1e3\n",
    "coeff=[0,0]\n",
    "result2=SGD(trainingSet,validationSet,coeff,stepsize2,iteration)\n",
    "coeff=[0,0]\n",
    "result3=SGD(trainingSet,validationSet,coeff,stepsize3,iteration)\n",
    "coeff=[0,0]\n",
    "result4=SGD(trainingSet,validationSet,coeff,stepsize4,iteration)\n",
    "coeff=[0,0]\n",
    "result5=SGD(trainingSet,validationSet,coeff,stepsize5,iteration)\n",
    "ValidMSE={'2':result2['VMSE'],'3':result3['VMSE'],'4':result4['VMSE'],'5':result5['VMSE']}\n",
    "print(ValidMSE)\n"
   ]
  },
  {
   "cell_type": "code",
   "execution_count": 18,
   "metadata": {},
   "outputs": [
    {
     "name": "stdout",
     "output_type": "stream",
     "text": [
      "{'2': 0.07507806366570699, '3': 0.07537862675155295, '4': 0.1586698287584694}\n"
     ]
    }
   ],
   "source": [
    "iteration=1e2\n",
    "coeff=[0,0]\n",
    "result2=SGD(trainingSet,validationSet,coeff,stepsize2,iteration)\n",
    "coeff=[0,0]\n",
    "result3=SGD(trainingSet,validationSet,coeff,stepsize3,iteration)\n",
    "coeff=[0,0]\n",
    "result4=SGD(trainingSet,validationSet,coeff,stepsize4,iteration)\n",
    "ValidMSE={'2':result2['VMSE'],'3':result3['VMSE'],'4':result4['VMSE']}\n",
    "print(ValidMSE)"
   ]
  },
  {
   "cell_type": "code",
   "execution_count": 19,
   "metadata": {},
   "outputs": [
    {
     "name": "stdout",
     "output_type": "stream",
     "text": [
      "{'2': 0.07507806366570699, '3': 0.07537862675155295, '4': 0.1586698287584694}\n"
     ]
    }
   ],
   "source": [
    "iteration=50\n",
    "coeff=[0,0]\n",
    "result2=SGD(trainingSet,validationSet,coeff,stepsize2,iteration)\n",
    "coeff=[0,0]\n",
    "result3=SGD(trainingSet,validationSet,coeff,stepsize3,iteration)\n",
    "coeff=[0,0]\n",
    "print(ValidMSE)"
   ]
  },
  {
   "cell_type": "code",
   "execution_count": 20,
   "metadata": {},
   "outputs": [
    {
     "name": "stdout",
     "output_type": "stream",
     "text": [
      "0.06979214820917252\n"
     ]
    }
   ],
   "source": [
    "iteration=1e4\n",
    "stepsize=stepsize2\n",
    "testMSE=0\n",
    "coeff=[0,0]\n",
    "bestResult=SGD(trainingSet,validationSet,coeff,stepsize,iteration)\n",
    "w=bestResult['Model']\n",
    "for datapoint in testSet:\n",
    "    error=Error(w,datapoint)\n",
    "    testMSE=testMSE+error**2\n",
    "testMSE=testMSE/len(testSet)\n",
    "print(testMSE)"
   ]
  },
  {
   "cell_type": "code",
   "execution_count": 21,
   "metadata": {},
   "outputs": [
    {
     "name": "stdout",
     "output_type": "stream",
     "text": [
      "[1, 15, 20, 37, 40]\n"
     ]
    }
   ],
   "source": [
    "#3.3\n",
    "import random \n",
    "epoch=[random.randint(1,50),random.randint(1,50),random.randint(1,50),random.randint(1,50)]\n",
    "epoch=[1,15,20,37,40]\n",
    "print(epoch)"
   ]
  },
  {
   "cell_type": "code",
   "execution_count": 22,
   "metadata": {},
   "outputs": [
    {
     "name": "stdout",
     "output_type": "stream",
     "text": [
      "[4.035277061875921, 3.727827849491529]\n"
     ]
    }
   ],
   "source": [
    "stepsize=stepsize2\n",
    "coeff=[0,0]\n",
    "temp1=SGD(trainingSet,validationSet,coeff,stepsize,1)\n",
    "coeff=[0,0]\n",
    "temp2=SGD(trainingSet,validationSet,coeff,stepsize,15)\n",
    "coeff=[0,0]\n",
    "temp3=SGD(trainingSet,validationSet,coeff,stepsize,20)\n",
    "coeff=[0,0]\n",
    "temp4=SGD(trainingSet,validationSet,coeff,stepsize,37)\n",
    "coeff=[0,0]\n",
    "temp5=SGD(trainingSet,validationSet,coeff,stepsize,40)\n",
    "\n",
    "model1=temp1['Model']\n",
    "model2=temp2['Model']\n",
    "model3=temp3['Model']\n",
    "model4=temp4['Model']\n",
    "model5=temp5['Model']\n",
    "print(model1)"
   ]
  },
  {
   "cell_type": "code",
   "execution_count": 23,
   "metadata": {},
   "outputs": [
    {
     "data": {
      "image/png": "[encoded data removed]",
      "text/plain": [
       "<Figure size 432x288 with 1 Axes>"
      ]
     },
     "metadata": {},
     "output_type": "display_data"
    }
   ],
   "source": [
    "xp=np.linspace(0,2,50)\n",
    "def getValue(model,x):\n",
    "    return model[0]+model[1]*x\n",
    "plt.plot(xs,ys,'ro',markersize=1,label='trainset')\n",
    "plt.plot(xvs,yvs,'bo',markersize=1,label='validset')\n",
    "plt.plot(xts,yts,'go',markersize=1,label='testset')\n",
    "plt.plot(xp,getValue(model1,xp),'b-',label=\"epoch1\")\n",
    "plt.plot(xp,getValue(model2,xp),'y-',label=\"epoch2\")\n",
    "plt.plot(xp,getValue(model3,xp),'g-',label=\"epoch3\")\n",
    "plt.plot(xp,getValue(model4,xp),'r-',label=\"epoch4\")\n",
    "plt.plot(xp,getValue(model5,xp),color=\"black\",label=\"epoch5\")\n",
    "plt.legend(loc='best')\n",
    "plt.show()"
   ]
  },
  {
   "cell_type": "code",
   "execution_count": 24,
   "metadata": {},
   "outputs": [
    {
     "name": "stderr",
     "output_type": "stream",
     "text": [
      "F:\\anaconda\\lib\\site-packages\\ipykernel_launcher.py:10: FutureWarning: convert_objects is deprecated.  To re-infer data dtypes for object columns, use DataFrame.infer_objects()\n",
      "For all other conversions use the data-type specific converters pd.to_datetime, pd.to_timedelta and pd.to_numeric.\n",
      "  # Remove the CWD from sys.path while we load stuff.\n"
     ]
    }
   ],
   "source": [
    "#4.1.a\n",
    "import pandas as pd\n",
    "import numpy as np\n",
    "nan=np.nan\n",
    "CAC=pd.read_csv('Q4.csv',header='infer')\n",
    "CAC=CAC.replace('?',nan)\n",
    "cityName=CAC.pop('Column4')\n",
    "missingPoint=CAC.isnull().sum()\n",
    "CAC=CAC.replace(nan,0)\n",
    "CAC=CAC.convert_objects(convert_numeric=True)\n",
    "colSum=CAC.sum()\n",
    "sampleMean=colSum/(len(CAC)-missingPoint)\n",
    "header=list(CAC)\n",
    "i=0\n",
    "def fillWithMean(data):\n",
    "    i=0\n",
    "    for feat in header:\n",
    "        fill=sampleMean[i]\n",
    "        data[feat]=data[feat].replace(0,fill)\n",
    "        i=i+1\n",
    "fillWithMean(CAC)\n",
    "CAC.to_csv('Assignment1_260631276_4_1_d.csv')\n",
    "state=CAC.pop('Column1')\n",
    "country=CAC.pop('Column2')\n",
    "community=CAC.pop('Column3')\n",
    "fold=CAC.pop('Column5')\n",
    "y=CAC['Column128']\n",
    "\n",
    "\n",
    "\n"
   ]
  },
  {
   "cell_type": "code",
   "execution_count": 25,
   "metadata": {},
   "outputs": [],
   "source": [
    "temp=CAC\n",
    "#4.2 \n",
    "#split test sets\n",
    "Test_set1=CAC.sample(frac=0.2,random_state=200)\n",
    "CAC=CAC.drop(Test_set1.index)\n",
    "Test_set2=CAC.sample(frac=0.25,random_state=200)\n",
    "CAC=CAC.drop(Test_set2.index)\n",
    "Test_set3=CAC.sample(frac=(200/600),random_state=200)\n",
    "CAC=CAC.drop(Test_set3.index)\n",
    "Test_set4=CAC.sample(frac=0.5,random_state=200)\n",
    "Test_set5=CAC.drop(Test_set4.index)\n",
    "\n",
    "Train_set1=temp.drop(Test_set1.index)\n",
    "Train_set2=temp.drop(Test_set2.index)\n",
    "Train_set3=temp.drop(Test_set3.index)\n",
    "Train_set4=temp.drop(Test_set4.index)\n",
    "Train_set5=temp.drop(Test_set5.index)\n",
    "\n",
    "Test_set1.to_csv('CandC-test1.csv',header=False,index=False)\n",
    "Train_set1.to_csv('CandC-train1.csv',header=False,index=False)\n",
    "\n",
    "Test_set2.to_csv('CandC-test2.csv',header=False,index=False)\n",
    "Train_set2.to_csv('CandC-train2.csv',header=False,index=False)\n",
    "\n",
    "Test_set3.to_csv('CandC-test3.csv',header=False,index=False)\n",
    "Train_set3.to_csv('CandC-train3.csv',header=False,index=False)\n",
    "\n",
    "Test_set4.to_csv('CandC-test4.csv',header=False,index=False)\n",
    "Train_set4.to_csv('CandC-train4.csv',header=False,index=False)\n",
    "\n",
    "Test_set5.to_csv('CandC-test5.csv',header=False,index=False)\n",
    "Train_set5.to_csv('CandC-train5.csv',header=False,index=False)\n",
    "\n",
    "Test_set1=Test_set1.values\n",
    "Train_set1=Train_set1.values\n",
    "\n",
    "Test_set2=Test_set2.values\n",
    "Train_set2=Train_set2.values\n",
    "\n",
    "Test_set3=Test_set3.values\n",
    "Train_set3=Train_set3.values\n",
    "\n",
    "\n",
    "Test_set4=Test_set4.values\n",
    "Train_set4=Train_set4.values\n",
    "\n",
    "Test_set5=Test_set5.values\n",
    "Train_set5=Train_set5.values\n",
    "\n",
    "def Error(model,datapoint):\n",
    "    result=model[0]\n",
    "    for feat in range(0,len(datapoint)-1):\n",
    "        temp=model[feat+1]*datapoint[feat]\n",
    "        result=result+temp\n",
    "    return result-datapoint[len(datapoint)-1]\n",
    "\n",
    "\n",
    "def LS(dataset,LAMB):\n",
    "    temp=dataset.T\n",
    "    I=np.identity(len(temp))\n",
    "    Yset=temp[len(temp)-1]\n",
    "    Xset=np.delete(temp,len(temp)-1,0)\n",
    "    padding=np.empty(len(Xset.T))\n",
    "    padding.fill(1)\n",
    "    padding=padding.T\n",
    "    Xset=np.row_stack((padding,Xset))\n",
    "    Xset=Xset.T\n",
    "    temp=np.matmul(Xset.T,Xset)+LAMB*I\n",
    "    temp=np.linalg.inv(temp)\n",
    "    temp=np.matmul(temp,Xset.T)\n",
    "    temp=np.matmul(temp,Yset)\n",
    "    return temp\n",
    "\n",
    "result1=LS(Train_set1,0)\n",
    "result2=LS(Train_set2,0) \n",
    "result3=LS(Train_set3,0)\n",
    "result4=LS(Train_set4,0) \n",
    "result5=LS(Train_set5,0)\n",
    "result=(result1+result2+result3+result4+result5)/5\n",
    "\n",
    "def MSE(dataset,w):\n",
    "    MSE=0\n",
    "    for datapoint in dataset:\n",
    "        error=Error(w,datapoint)\n",
    "        MSE=MSE+error**2\n",
    "    MSE=MSE/len(dataset)\n",
    "    return MSE\n",
    "\n",
    "mseCollect=list()\n",
    "mseCollect.append(MSE(Test_set1,result1))\n",
    "mseCollect.append(MSE(Test_set2,result2))\n",
    "mseCollect.append(MSE(Test_set3,result3))\n",
    "mseCollect.append(MSE(Test_set4,result4))\n",
    "mseCollect.append(MSE(Test_set5,result5))\n",
    "mseCollect=np.array(mseCollect)\n",
    "averageMSE=np.mean(mseCollect)\n",
    "\n"
   ]
  },
  {
   "cell_type": "code",
   "execution_count": 26,
   "metadata": {},
   "outputs": [],
   "source": [
    "#write\n",
    "\n",
    "doc={'averageMSE':averageMSE,'model':result}\n",
    "\n",
    "f = open(\"Assignment1_260631276_4_2.txt\",\"w\")\n",
    "f.write(str(doc))\n",
    "f.close()\n",
    "\n"
   ]
  },
  {
   "cell_type": "code",
   "execution_count": 27,
   "metadata": {},
   "outputs": [],
   "source": [
    "#4.3\n",
    "def L2TrainMSE(trainset,testset,LAMB):\n",
    "    mse=0\n",
    "    model=LS(trainset,LAMB)\n",
    "    mse=MSE(trainset,model)\n",
    "    return mse\n",
    "def L2TMSE(trainset,testset,LAMB):\n",
    "    mse=0\n",
    "    model=LS(trainset,LAMB)\n",
    "    mse=MSE(testset,model)\n",
    "    return mse\n",
    "def AvgTrainMse(LAMB):\n",
    "    temp=0\n",
    "    temp=temp+L2TrainMSE(Train_set1,Test_set1,LAMB)\n",
    "    temp=temp+L2TrainMSE(Train_set2,Test_set2,LAMB)\n",
    "    temp=temp+L2TrainMSE(Train_set3,Test_set3,LAMB)\n",
    "    temp=temp+L2TrainMSE(Train_set4,Test_set4,LAMB)\n",
    "    temp=temp+L2TrainMSE(Train_set5,Test_set5,LAMB)\n",
    "    return temp/5\n",
    "def AvgMse(LAMB):\n",
    "    temp=0\n",
    "    temp=temp+L2TMSE(Train_set1,Test_set1,LAMB)\n",
    "    temp=temp+L2TMSE(Train_set2,Test_set2,LAMB)\n",
    "    temp=temp+L2TMSE(Train_set3,Test_set3,LAMB)\n",
    "    temp=temp+L2TMSE(Train_set4,Test_set4,LAMB)\n",
    "    temp=temp+L2TMSE(Train_set5,Test_set5,LAMB)\n",
    "    return temp/5\n",
    "import matplotlib.pyplot as plt\n",
    "LAMB=np.linspace(0,1,5)#0,0.25,0.5,0.75,1\n",
    "avMse=list()\n",
    "j=0\n",
    "for i in LAMB:\n",
    "    j=j+1\n",
    "    result1=LS(Train_set1,i)\n",
    "    result2=LS(Train_set2,i) \n",
    "    result3=LS(Train_set3,i)\n",
    "    result4=LS(Train_set4,i) \n",
    "    result5=LS(Train_set5,i)\n",
    "    result=(result1+result2+result3+result4+result5)/5\n",
    "    doc={'lambda':i,'average MSE':AvgMse(i),'coeff1':result}\n",
    "    filename='Assignment1_260631276_4_3.txt'\n",
    "    f = open(filename,\"a+\")\n",
    "    f.write(str(doc))\n",
    "    f.close()   \n",
    "    avMse.append(AvgMse(i))"
   ]
  },
  {
   "cell_type": "code",
   "execution_count": 28,
   "metadata": {},
   "outputs": [],
   "source": [
    "#plot\n",
    "\n",
    "LAMB=np.linspace(0,1,50)\n",
    "plotingMSE1=list()\n",
    "plotingMSE2=list()\n",
    "dic={}\n",
    "for i in LAMB:\n",
    "    dic[i]=AvgMse(i)+AvgTrainMse(i)\n",
    "    plotingMSE1.append(AvgTrainMse(i))\n",
    "    plotingMSE2.append(AvgMse(i))\n",
    "\n"
   ]
  },
  {
   "cell_type": "code",
   "execution_count": 29,
   "metadata": {},
   "outputs": [
    {
     "data": {
      "image/png": "[encoded data removed]",
      "text/plain": [
       "<Figure size 432x288 with 1 Axes>"
      ]
     },
     "metadata": {},
     "output_type": "display_data"
    },
    {
     "name": "stdout",
     "output_type": "stream",
     "text": [
      "0.7142857142857142\n",
      "0.03601346392210256\n"
     ]
    }
   ],
   "source": [
    "plt.plot(LAMB,plotingMSE1,'r-',label='TrainMSE')\n",
    "plt.plot(LAMB,plotingMSE2,'b-',label='TestMSE')\n",
    "plt.ylabel=(\"MSE\")\n",
    "plt.xlabel=(\"lambda\")\n",
    "plt.legend(loc='best')\n",
    "plt.ylim(0,0.1)\n",
    "plt.show()\n",
    "minkey=min(dic, key=dic.get)\n",
    "minMSE=dic[minkey]\n",
    "print(minkey)\n",
    "print(minMSE)"
   ]
  },
  {
   "cell_type": "code",
   "execution_count": null,
   "metadata": {},
   "outputs": [],
   "source": []
  }
 ],
 "metadata": {
  "kernelspec": {
   "display_name": "Python 3",
   "language": "python",
   "name": "python3"
  },
  "language_info": {
   "codemirror_mode": {
    "name": "ipython",
    "version": 3
   },
   "file_extension": ".py",
   "mimetype": "text/x-python",
   "name": "python",
   "nbconvert_exporter": "python",
   "pygments_lexer": "ipython3",
   "version": "3.6.5"
  }
 },
 "nbformat": 4,
 "nbformat_minor": 2
}
